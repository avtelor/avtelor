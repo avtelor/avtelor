{
  "cells": [
    {
      "cell_type": "markdown",
      "metadata": {
        "id": "view-in-github",
        "colab_type": "text"
      },
      "source": [
        "<a href=\"https://colab.research.google.com/github/avtelor/avtelor/blob/main/DealFlowSlides.ipynb\" target=\"_parent\"><img src=\"https://colab.research.google.com/assets/colab-badge.svg\" alt=\"Open In Colab\"/></a>"
      ]
    },
    {
      "cell_type": "markdown",
      "source": [
        "used the following resources:\n",
        "\n",
        "[python-pptx documentation Working with tables](https://python-pptx.readthedocs.io/en/latest/user/table.html)\n",
        "\n",
        "\n",
        "[Turn Your Excel Sheet into a PowerPoint Presentation in Just a Couple of Minutes](https://python.plainenglish.io/turn-your-excel-sheets-into-a-powerpoint-presentation-just-in-a-couple-of-minutes-62ae4b8bc13b)\n",
        "\n",
        "[Code to resize pic to fit the place holder](https://pythonprogramming.altervista.org/inserting-an-image-in-powerpoint-with-python/?doing_wp_cron=1661671938.5373210906982421875000)\n",
        "\n",
        "[Creating executable from Python (1)](https://www.tomshardware.com/how-to/create-python-executable-applications)\n",
        "\n",
        "[Creating executable from Python (2)](https://pythonguides.com/convert-python-file-to-exe-using-pyinstaller/)"
      ],
      "metadata": {
        "id": "HvgPkm4piaIZ"
      }
    },
    {
      "cell_type": "code",
      "execution_count": 1,
      "metadata": {
        "colab": {
          "base_uri": "https://localhost:8080/"
        },
        "id": "FujR3tWRfM7K",
        "outputId": "d5390b5a-9fb8-4ccd-97da-ca08a384b61a"
      },
      "outputs": [
        {
          "output_type": "stream",
          "name": "stdout",
          "text": [
            "Looking in indexes: https://pypi.org/simple, https://us-python.pkg.dev/colab-wheels/public/simple/\n",
            "Collecting python-pptx\n",
            "  Downloading python-pptx-0.6.21.tar.gz (10.1 MB)\n",
            "\u001b[K     |████████████████████████████████| 10.1 MB 5.0 MB/s \n",
            "\u001b[?25hRequirement already satisfied: lxml>=3.1.0 in /usr/local/lib/python3.7/dist-packages (from python-pptx) (4.9.1)\n",
            "Requirement already satisfied: Pillow>=3.3.2 in /usr/local/lib/python3.7/dist-packages (from python-pptx) (7.1.2)\n",
            "Collecting XlsxWriter>=0.5.7\n",
            "  Downloading XlsxWriter-3.0.3-py3-none-any.whl (149 kB)\n",
            "\u001b[K     |████████████████████████████████| 149 kB 41.0 MB/s \n",
            "\u001b[?25hBuilding wheels for collected packages: python-pptx\n",
            "  Building wheel for python-pptx (setup.py) ... \u001b[?25l\u001b[?25hdone\n",
            "  Created wheel for python-pptx: filename=python_pptx-0.6.21-py3-none-any.whl size=470951 sha256=73fa45ed295a4e37d513a607eef158bcce881cd466d9d72ea5e222a6f92a1a13\n",
            "  Stored in directory: /root/.cache/pip/wheels/a7/ab/f4/52560d0d4bd4055e9261c6df6e51c7b56c2b23cca3dee811a3\n",
            "Successfully built python-pptx\n",
            "Installing collected packages: XlsxWriter, python-pptx\n",
            "Successfully installed XlsxWriter-3.0.3 python-pptx-0.6.21\n"
          ]
        }
      ],
      "source": [
        "\n",
        "!pip install python-pptx"
      ]
    },
    {
      "cell_type": "code",
      "execution_count": 2,
      "metadata": {
        "colab": {
          "base_uri": "https://localhost:8080/"
        },
        "id": "1N1BpLDZ0irh",
        "outputId": "83bc6120-1a8f-4a9f-f0ad-f5c39a20fea4"
      },
      "outputs": [
        {
          "output_type": "stream",
          "name": "stdout",
          "text": [
            "ID = 1, Shape name is           \"Content Placeholder 1\"\n",
            "ID = 10, Shape name is           \"Text Placeholder 2\"\n",
            "ID = 11, Shape name is           \"Picture Placeholder 3\"\n",
            "ID = 13, Shape name is           \"Picture Placeholder 4\"\n",
            "ID = 15, Shape name is           \"Table Placeholder 5\"\n",
            "ID = 16, Shape name is           \"Content Placeholder 6\"\n",
            "ID = 17, Shape name is           \"Content Placeholder 7\"\n",
            "ID = 18, Shape name is           \"Content Placeholder 8\"\n",
            "ID = 19, Shape name is           \"Picture Placeholder 9\"\n",
            "ID = 20, Shape name is           \"Table Placeholder 10\"\n",
            "ID = 21, Shape name is           \"Content Placeholder 11\"\n"
          ]
        }
      ],
      "source": [
        "#import pptx\n",
        "from pptx import Presentation\n",
        "prs  = Presentation('Dealflow_template.pptx')\n",
        "slide = prs.slides.add_slide(prs.slide_layouts[1])\n",
        "#-----------------------\n",
        "for s_ in slide.placeholders:\n",
        "    print('ID = {0:d}, Shape name is \\\n",
        "          \"{1:s}\"'.format(s_.placeholder_format.idx,s_.name))"
      ]
    },
    {
      "cell_type": "markdown",
      "source": [
        "Loading the XLS workbook and loading the cells int"
      ],
      "metadata": {
        "id": "2cRQDXpVirOc"
      }
    },
    {
      "cell_type": "code",
      "execution_count": 8,
      "metadata": {
        "colab": {
          "base_uri": "https://localhost:8080/"
        },
        "id": "2MbDLhHSNt_o",
        "outputId": "0892ec2e-9820-4ae3-bee8-e1d4cfbb826b"
      },
      "outputs": [
        {
          "output_type": "stream",
          "name": "stdout",
          "text": [
            "slides are ready\n"
          ]
        }
      ],
      "source": [
        "from pptx.util import Inches\n",
        "from pptx.util import Inches, Pt\n",
        "from pptx.dml.color import ColorFormat, RGBColor\n",
        "#from pptx.enum.dml import MSO_COLOR_TYPE, MSO_THEME_COLOR\n",
        "import openpyxl\n",
        "from openpyxl import load_workbook\n",
        "import os.path\n",
        "from PIL import Image\n",
        "\n",
        "filename=\"Dealflow.xlsx\"\n",
        "#print (filename)\n",
        "wb = openpyxl.load_workbook(filename, data_only = True)\n",
        "#print ('Sheet:',wb.sheetnames )\n",
        "#ws = wb.get_sheet_by_name(name = 'big_data')\n",
        "\n",
        "def iter_cells(table):\n",
        "    for row in table.rows:\n",
        "        for cell in row.cells:\n",
        "            yield cell\n",
        "\n",
        "\n",
        "\n",
        "def resize_image(image_url, placeholder):\n",
        "    \n",
        "    # Extract the image size\n",
        "    im = Image.open(image_url)\n",
        "    width, height = im.size\n",
        "    \n",
        "    # Make sure the placeholder doesn't zoom in\n",
        "    placeholder.height = height\n",
        "    placeholder.width = width\n",
        "    \n",
        "    # Insert the picture\n",
        "    placeholder = placeholder.insert_picture(image_url)\n",
        "\n",
        "    # Calculate ratios and compare\n",
        "    image_ratio = width / height\n",
        "    placeholder_ratio = placeholder.width / placeholder.height\n",
        "    ratio_difference = placeholder_ratio - image_ratio\n",
        " \n",
        "    # Placeholder width too wide:\n",
        "    if ratio_difference > 0:\n",
        "        difference_on_each_side = ratio_difference / 2\n",
        "        placeholder.crop_left = -difference_on_each_side\n",
        "        placeholder.crop_right = -difference_on_each_side\n",
        "    # Placeholder height too high\n",
        "    else:\n",
        "        difference_on_each_side = -ratio_difference / 2\n",
        "        placeholder.crop_bottom = -difference_on_each_side\n",
        "        placeholder.crop_top = -difference_on_each_side\n",
        "\n",
        "\n",
        "ws = wb.worksheets[0]\n",
        "ppt = Presentation('Dealflow_template.pptx')\n",
        "layout=1 # layout 'ID=0'- basic layout ; \"1\" - extended\n",
        "layout_company_overview = ppt.slide_layouts[layout]  \n",
        "for slidenum in range (1,20) : \n",
        "  new_slide = [\"new_slide\" + str(slidenum)] \n",
        "  new_slide = ppt.slides.add_slide(layout_company_overview)\n",
        "  new_slide.placeholders[10].text  = str(ws['C'+str(slidenum+1)].value) # Name\n",
        "  new_slide.placeholders[21].text  = str(ws['U'+str(slidenum+1)].value).replace(\", \", \"\\n\") # Founders  \n",
        "  for paragraph in new_slide.shapes.placeholders[21].text_frame.paragraphs:\n",
        "        paragraph.font.size = Pt(13)\n",
        "  new_slide.placeholders[1].text  = str(ws['H'+str(slidenum+1)].value)  # Essence\n",
        "  new_slide.placeholders[16].text  = str(ws['I'+str(slidenum+1)].value) # Differentiation\n",
        "  new_slide.placeholders[17].text  = str(ws['J'+str(slidenum+1)].value) # Intel Touchpoints\n",
        "  new_slide.placeholders[18].text  = str(ws['K'+str(slidenum+1)].value) # Value to Intel\n",
        "\n",
        "  pic_file_name='/content/Pics/'+str(ws['C'+str(slidenum+1)].value)+'1.png'\n",
        "  file_exists = os.path.exists(pic_file_name)\n",
        "  if file_exists: \n",
        "    #new_slide.placeholders[11].insert_picture(pic_file_name)    \n",
        "    resize_image(pic_file_name, new_slide.placeholders[11])\n",
        "    pic_file_name='/content/Pics/'+str(ws['C'+str(slidenum+1)].value)+'2.png'\n",
        "    file_exists = os.path.exists(pic_file_name)\n",
        "    if file_exists: \n",
        "      #new_slide.placeholders[13].insert_picture(pic_file_name)\n",
        "      resize_image(pic_file_name, new_slide.placeholders[13])\n",
        "  \n",
        "  shape = new_slide.placeholders[15].insert_table(rows=2, cols=5)\n",
        "  table=shape.table\n",
        "  table.cell(0,0).text=\"Status\"\n",
        "  table.cell(0,1).text=\"Pillar\"\n",
        "  table.cell(0,2).text=\"Synergy\"\n",
        "  table.cell(0,3).text=\"Funding\"\n",
        "  table.cell(0,4).text=\"Score\"\n",
        "  table.cell(1,0).text=str(ws['E'+str(slidenum+1)].value) # status\n",
        "  table.cell(1,1).text=str(ws['F'+str(slidenum+1)].value) # Pillars\n",
        "  table.cell(1,2).text=str(ws['G'+str(slidenum+1)].value) # Synergy\n",
        "  table.cell(1,3).text=str(ws['M'+str(slidenum+1)].value) # Funding  \n",
        "  table.cell(1,4).text=str(ws['X'+str(slidenum+1)].value) # Score\n",
        "  \n",
        "  for cellnum in range (0,5):\n",
        "  #  fill=table.cell(0,cellnum).fill\n",
        "  #  fill = cell.fill\n",
        "  #  fill.solid()\n",
        "  #  fill.fore_color.rgb = RGBColor(0xE6, 0xF2, 0xFF)\n",
        "    cell=table.cell(0,cellnum)\n",
        "    for paragraph in cell.text_frame.paragraphs:\n",
        "        paragraph.font.size = Pt(16) if layout==0 else Pt(12)\n",
        "        #paragraph.font.bold = True        \n",
        "        paragraph.font.color.rgb = RGBColor(0xFF, 0xff, 0xff)\n",
        "\n",
        "  for cellnum in range (0,5):\n",
        "  #  fill=table.cell(1,cellnum).fill\n",
        "  #  fill = cell.fill\n",
        "  #  fill.solid()\n",
        "  #  fill.fore_color.rgb = RGBColor(0xE6, 0xF2, 0xFF)\n",
        "    cell=table.cell(1,cellnum)\n",
        "    for paragraph in cell.text_frame.paragraphs:\n",
        "        paragraph.font.size = Pt(14) if layout==0 else Pt(10)\n",
        "        paragraph.font.color.rgb = RGBColor(0x0, 0x33, 0x66)\n",
        "\n",
        "  if layout==1 :\n",
        "    shape = new_slide.placeholders[20].insert_table(rows=2, cols=6)\n",
        "    table=shape.table\n",
        "    table.cell(0,0).text=\"Team\"\n",
        "    table.cell(0,1).text=\"Coachability\"\n",
        "    table.cell(0,2).text=\"Impact\"\n",
        "    table.cell(0,3).text=\"Success\"\n",
        "    table.cell(0,4).text=\"technology\"\n",
        "    table.cell(0,5).text=\"Maturity\"    \n",
        "    table.cell(1,0).text=str(ws['O'+str(slidenum+1)].value) # Team\n",
        "    table.cell(1,1).text=str(ws['P'+str(slidenum+1)].value) # Coachability\n",
        "    table.cell(1,2).text=str(ws['Q'+str(slidenum+1)].value) # Impact\n",
        "    table.cell(1,3).text=str(ws['R'+str(slidenum+1)].value) # Success\n",
        "    table.cell(1,4).text=str(ws['S'+str(slidenum+1)].value) # Technology\n",
        "    table.cell(1,5).text=str(ws['T'+str(slidenum+1)].value) # Maturity\n",
        "  \n",
        "    for cellnum in range (0,6):\n",
        "    #  fill=table.cell(0,cellnum).fill\n",
        "    #  fill = cell.fill\n",
        "    #  fill.solid()\n",
        "    #  fill.fore_color.rgb = RGBColor(0xE6, 0xF2, 0xFF)\n",
        "      cell=table.cell(0,cellnum)\n",
        "      for paragraph in cell.text_frame.paragraphs:\n",
        "        paragraph.font.size = Pt(12)\n",
        "        #paragraph.font.bold = True        \n",
        "        paragraph.font.color.rgb = RGBColor(0xFF, 0xff, 0xff)\n",
        "\n",
        "    for cellnum in range (0,6):\n",
        "    #  fill=table.cell(1,cellnum).fill\n",
        "    #  fill = cell.fill\n",
        "    #  fill.solid()\n",
        "    #  fill.fore_color.rgb = RGBColor(0xE6, 0xF2, 0xFF)\n",
        "      cell=table.cell(1,cellnum)\n",
        "      for paragraph in cell.text_frame.paragraphs:\n",
        "        paragraph.font.size = Pt(10)\n",
        "        paragraph.font.color.rgb = RGBColor(0x0, 0x33, 0x66)\n",
        "  \n",
        "ppt.save(\"Dealflow.pptx\")\n",
        "print ('slides are ready')"
      ]
    }
  ],
  "metadata": {
    "colab": {
      "name": "DealFlowSlides.ipynb",
      "provenance": [],
      "collapsed_sections": [],
      "authorship_tag": "ABX9TyOq414YCcJYtOKxRIr27CaM",
      "include_colab_link": true
    },
    "kernelspec": {
      "display_name": "Python 3",
      "name": "python3"
    },
    "language_info": {
      "name": "python"
    }
  },
  "nbformat": 4,
  "nbformat_minor": 0
}